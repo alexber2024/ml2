{
 "cells": [
  {
   "cell_type": "markdown",
   "metadata": {},
   "source": [
    "# Movie ratings - NMF model\n",
    "\n",
    "In this notebook I will build a NMF model for movie rating prediction.\n",
    "\n",
    "First I will import the required libraries and load the data. I will only need the train and test sets for the ratings."
   ]
  },
  {
   "cell_type": "code",
   "execution_count": 94,
   "metadata": {},
   "outputs": [
    {
     "data": {
      "text/html": [
       "<div>\n",
       "<style scoped>\n",
       "    .dataframe tbody tr th:only-of-type {\n",
       "        vertical-align: middle;\n",
       "    }\n",
       "\n",
       "    .dataframe tbody tr th {\n",
       "        vertical-align: top;\n",
       "    }\n",
       "\n",
       "    .dataframe thead th {\n",
       "        text-align: right;\n",
       "    }\n",
       "</style>\n",
       "<table border=\"1\" class=\"dataframe\">\n",
       "  <thead>\n",
       "    <tr style=\"text-align: right;\">\n",
       "      <th></th>\n",
       "      <th>uID</th>\n",
       "      <th>mID</th>\n",
       "      <th>rating</th>\n",
       "    </tr>\n",
       "  </thead>\n",
       "  <tbody>\n",
       "    <tr>\n",
       "      <th>0</th>\n",
       "      <td>744</td>\n",
       "      <td>1210</td>\n",
       "      <td>5</td>\n",
       "    </tr>\n",
       "    <tr>\n",
       "      <th>1</th>\n",
       "      <td>3040</td>\n",
       "      <td>1584</td>\n",
       "      <td>4</td>\n",
       "    </tr>\n",
       "    <tr>\n",
       "      <th>2</th>\n",
       "      <td>1451</td>\n",
       "      <td>1293</td>\n",
       "      <td>5</td>\n",
       "    </tr>\n",
       "    <tr>\n",
       "      <th>3</th>\n",
       "      <td>5455</td>\n",
       "      <td>3176</td>\n",
       "      <td>2</td>\n",
       "    </tr>\n",
       "    <tr>\n",
       "      <th>4</th>\n",
       "      <td>2507</td>\n",
       "      <td>3074</td>\n",
       "      <td>5</td>\n",
       "    </tr>\n",
       "  </tbody>\n",
       "</table>\n",
       "</div>"
      ],
      "text/plain": [
       "    uID   mID  rating\n",
       "0   744  1210       5\n",
       "1  3040  1584       4\n",
       "2  1451  1293       5\n",
       "3  5455  3176       2\n",
       "4  2507  3074       5"
      ]
     },
     "execution_count": 94,
     "metadata": {},
     "output_type": "execute_result"
    }
   ],
   "source": [
    "import pandas as pd\n",
    "from sklearn.decomposition import NMF\n",
    "from sklearn.metrics import mean_squared_error\n",
    "from math import sqrt\n",
    "\n",
    "# Load the data\n",
    "train = pd.read_csv('movie_ratings/train.csv')\n",
    "test = pd.read_csv('movie_ratings/test.csv')\n",
    "\n",
    "train.head()"
   ]
  },
  {
   "cell_type": "markdown",
   "metadata": {},
   "source": [
    "Next, I will create the user-item matrix, based on train data."
   ]
  },
  {
   "cell_type": "code",
   "execution_count": 95,
   "metadata": {},
   "outputs": [],
   "source": [
    "user_item_matrix = train.pivot_table(index='uID', columns='mID', values='rating')"
   ]
  },
  {
   "cell_type": "markdown",
   "metadata": {},
   "source": [
    "For the NMF model to work correctly, I will need to ensure that all movies from the test set are also included in the matrix:"
   ]
  },
  {
   "cell_type": "code",
   "execution_count": 96,
   "metadata": {},
   "outputs": [],
   "source": [
    "missing_cols = list(set(test['mID']) - set(train['mID']))\n",
    "for col in missing_cols:\n",
    "    user_item_matrix[col] = [None] * len(user_item_matrix)"
   ]
  },
  {
   "cell_type": "markdown",
   "metadata": {},
   "source": [
    "I will need to fill all NaN cells with values. Otherwise the NMF model will not work. I will fill those cells with user average rating:"
   ]
  },
  {
   "cell_type": "code",
   "execution_count": 97,
   "metadata": {},
   "outputs": [],
   "source": [
    "import warnings\n",
    "warnings.filterwarnings(\"ignore\") # ignore downcasting warnings\n",
    "\n",
    "user_item_matrix = user_item_matrix.apply(lambda row: row.fillna(row.mean()), axis=1)"
   ]
  },
  {
   "cell_type": "markdown",
   "metadata": {},
   "source": [
    "Now I can build the NMF model"
   ]
  },
  {
   "cell_type": "code",
   "execution_count": 103,
   "metadata": {},
   "outputs": [],
   "source": [
    "nmf = NMF(n_components=50)\n",
    "user_matrix = nmf.fit_transform(user_item_matrix)\n",
    "item_matrix = nmf.components_"
   ]
  },
  {
   "cell_type": "markdown",
   "metadata": {},
   "source": [
    "To get all ratings predictions I will multiply W and H matrices. I will also clip the values to be between 1 and 5. The results will be stored in a dataframe"
   ]
  },
  {
   "cell_type": "code",
   "execution_count": 99,
   "metadata": {},
   "outputs": [
    {
     "data": {
      "text/html": [
       "<div>\n",
       "<style scoped>\n",
       "    .dataframe tbody tr th:only-of-type {\n",
       "        vertical-align: middle;\n",
       "    }\n",
       "\n",
       "    .dataframe tbody tr th {\n",
       "        vertical-align: top;\n",
       "    }\n",
       "\n",
       "    .dataframe thead th {\n",
       "        text-align: right;\n",
       "    }\n",
       "</style>\n",
       "<table border=\"1\" class=\"dataframe\">\n",
       "  <thead>\n",
       "    <tr style=\"text-align: right;\">\n",
       "      <th>mID</th>\n",
       "      <th>1</th>\n",
       "      <th>2</th>\n",
       "      <th>3</th>\n",
       "      <th>4</th>\n",
       "      <th>5</th>\n",
       "      <th>6</th>\n",
       "      <th>7</th>\n",
       "      <th>8</th>\n",
       "      <th>9</th>\n",
       "      <th>10</th>\n",
       "      <th>...</th>\n",
       "      <th>868</th>\n",
       "      <th>3172</th>\n",
       "      <th>872</th>\n",
       "      <th>3305</th>\n",
       "      <th>624</th>\n",
       "      <th>3315</th>\n",
       "      <th>884</th>\n",
       "      <th>887</th>\n",
       "      <th>3065</th>\n",
       "      <th>3323</th>\n",
       "    </tr>\n",
       "    <tr>\n",
       "      <th>uID</th>\n",
       "      <th></th>\n",
       "      <th></th>\n",
       "      <th></th>\n",
       "      <th></th>\n",
       "      <th></th>\n",
       "      <th></th>\n",
       "      <th></th>\n",
       "      <th></th>\n",
       "      <th></th>\n",
       "      <th></th>\n",
       "      <th></th>\n",
       "      <th></th>\n",
       "      <th></th>\n",
       "      <th></th>\n",
       "      <th></th>\n",
       "      <th></th>\n",
       "      <th></th>\n",
       "      <th></th>\n",
       "      <th></th>\n",
       "      <th></th>\n",
       "      <th></th>\n",
       "    </tr>\n",
       "  </thead>\n",
       "  <tbody>\n",
       "    <tr>\n",
       "      <th>1</th>\n",
       "      <td>4.288054</td>\n",
       "      <td>4.217755</td>\n",
       "      <td>4.213402</td>\n",
       "      <td>4.203071</td>\n",
       "      <td>4.214910</td>\n",
       "      <td>4.200221</td>\n",
       "      <td>4.237013</td>\n",
       "      <td>4.216660</td>\n",
       "      <td>4.210625</td>\n",
       "      <td>4.231669</td>\n",
       "      <td>...</td>\n",
       "      <td>4.214013</td>\n",
       "      <td>4.214013</td>\n",
       "      <td>4.214013</td>\n",
       "      <td>4.214013</td>\n",
       "      <td>4.214013</td>\n",
       "      <td>4.214013</td>\n",
       "      <td>4.214013</td>\n",
       "      <td>4.214013</td>\n",
       "      <td>4.214013</td>\n",
       "      <td>4.214013</td>\n",
       "    </tr>\n",
       "    <tr>\n",
       "      <th>2</th>\n",
       "      <td>3.717930</td>\n",
       "      <td>3.604074</td>\n",
       "      <td>3.618764</td>\n",
       "      <td>3.656508</td>\n",
       "      <td>3.660293</td>\n",
       "      <td>3.688673</td>\n",
       "      <td>3.665811</td>\n",
       "      <td>3.635717</td>\n",
       "      <td>3.652719</td>\n",
       "      <td>3.613970</td>\n",
       "      <td>...</td>\n",
       "      <td>3.648679</td>\n",
       "      <td>3.648679</td>\n",
       "      <td>3.648679</td>\n",
       "      <td>3.648679</td>\n",
       "      <td>3.648679</td>\n",
       "      <td>3.648679</td>\n",
       "      <td>3.648679</td>\n",
       "      <td>3.648679</td>\n",
       "      <td>3.648679</td>\n",
       "      <td>3.648679</td>\n",
       "    </tr>\n",
       "    <tr>\n",
       "      <th>3</th>\n",
       "      <td>3.800443</td>\n",
       "      <td>3.894503</td>\n",
       "      <td>3.902968</td>\n",
       "      <td>3.918843</td>\n",
       "      <td>3.908245</td>\n",
       "      <td>3.880092</td>\n",
       "      <td>3.900772</td>\n",
       "      <td>3.923846</td>\n",
       "      <td>3.910767</td>\n",
       "      <td>3.961555</td>\n",
       "      <td>...</td>\n",
       "      <td>3.921161</td>\n",
       "      <td>3.921161</td>\n",
       "      <td>3.921161</td>\n",
       "      <td>3.921161</td>\n",
       "      <td>3.921161</td>\n",
       "      <td>3.921161</td>\n",
       "      <td>3.921161</td>\n",
       "      <td>3.921161</td>\n",
       "      <td>3.921161</td>\n",
       "      <td>3.921161</td>\n",
       "    </tr>\n",
       "    <tr>\n",
       "      <th>4</th>\n",
       "      <td>3.996992</td>\n",
       "      <td>3.909254</td>\n",
       "      <td>3.919673</td>\n",
       "      <td>3.926596</td>\n",
       "      <td>3.925820</td>\n",
       "      <td>3.909011</td>\n",
       "      <td>3.926929</td>\n",
       "      <td>3.928128</td>\n",
       "      <td>3.934672</td>\n",
       "      <td>3.929580</td>\n",
       "      <td>...</td>\n",
       "      <td>3.932229</td>\n",
       "      <td>3.932229</td>\n",
       "      <td>3.932229</td>\n",
       "      <td>3.932229</td>\n",
       "      <td>3.932229</td>\n",
       "      <td>3.932229</td>\n",
       "      <td>3.932229</td>\n",
       "      <td>3.932229</td>\n",
       "      <td>3.932229</td>\n",
       "      <td>3.932229</td>\n",
       "    </tr>\n",
       "    <tr>\n",
       "      <th>5</th>\n",
       "      <td>3.460350</td>\n",
       "      <td>3.092495</td>\n",
       "      <td>3.136976</td>\n",
       "      <td>3.099705</td>\n",
       "      <td>3.115108</td>\n",
       "      <td>3.133494</td>\n",
       "      <td>3.082242</td>\n",
       "      <td>3.126793</td>\n",
       "      <td>3.129074</td>\n",
       "      <td>3.062527</td>\n",
       "      <td>...</td>\n",
       "      <td>3.139234</td>\n",
       "      <td>3.139234</td>\n",
       "      <td>3.139234</td>\n",
       "      <td>3.139234</td>\n",
       "      <td>3.139234</td>\n",
       "      <td>3.139234</td>\n",
       "      <td>3.139234</td>\n",
       "      <td>3.139234</td>\n",
       "      <td>3.139234</td>\n",
       "      <td>3.139234</td>\n",
       "    </tr>\n",
       "  </tbody>\n",
       "</table>\n",
       "<p>5 rows × 3706 columns</p>\n",
       "</div>"
      ],
      "text/plain": [
       "mID      1         2         3         4         5         6         7     \\\n",
       "uID                                                                         \n",
       "1    4.288054  4.217755  4.213402  4.203071  4.214910  4.200221  4.237013   \n",
       "2    3.717930  3.604074  3.618764  3.656508  3.660293  3.688673  3.665811   \n",
       "3    3.800443  3.894503  3.902968  3.918843  3.908245  3.880092  3.900772   \n",
       "4    3.996992  3.909254  3.919673  3.926596  3.925820  3.909011  3.926929   \n",
       "5    3.460350  3.092495  3.136976  3.099705  3.115108  3.133494  3.082242   \n",
       "\n",
       "mID      8         9         10    ...      868       3172      872   \\\n",
       "uID                                ...                                 \n",
       "1    4.216660  4.210625  4.231669  ...  4.214013  4.214013  4.214013   \n",
       "2    3.635717  3.652719  3.613970  ...  3.648679  3.648679  3.648679   \n",
       "3    3.923846  3.910767  3.961555  ...  3.921161  3.921161  3.921161   \n",
       "4    3.928128  3.934672  3.929580  ...  3.932229  3.932229  3.932229   \n",
       "5    3.126793  3.129074  3.062527  ...  3.139234  3.139234  3.139234   \n",
       "\n",
       "mID      3305      624       3315      884       887       3065      3323  \n",
       "uID                                                                        \n",
       "1    4.214013  4.214013  4.214013  4.214013  4.214013  4.214013  4.214013  \n",
       "2    3.648679  3.648679  3.648679  3.648679  3.648679  3.648679  3.648679  \n",
       "3    3.921161  3.921161  3.921161  3.921161  3.921161  3.921161  3.921161  \n",
       "4    3.932229  3.932229  3.932229  3.932229  3.932229  3.932229  3.932229  \n",
       "5    3.139234  3.139234  3.139234  3.139234  3.139234  3.139234  3.139234  \n",
       "\n",
       "[5 rows x 3706 columns]"
      ]
     },
     "execution_count": 99,
     "metadata": {},
     "output_type": "execute_result"
    }
   ],
   "source": [
    "# predict the ratings\n",
    "preds = user_matrix.dot(item_matrix)\n",
    "# clip the values to be between 1 and 5\n",
    "preds[preds > 5] = 5\n",
    "preds[preds < 1] = 1\n",
    "preds = pd.DataFrame(preds, columns=user_item_matrix.columns, index=user_item_matrix.index)\n",
    "\n",
    "preds.head()"
   ]
  },
  {
   "cell_type": "markdown",
   "metadata": {},
   "source": [
    "Now I can get a list of predictions for train and test sets"
   ]
  },
  {
   "cell_type": "code",
   "execution_count": 100,
   "metadata": {},
   "outputs": [],
   "source": [
    "train_pred_ratings = []\n",
    "for _, row in train.iterrows():\n",
    "    train_pred_ratings.append(preds.loc[row['uID'], row['mID']])\n",
    "\n",
    "\n",
    "test_pred_ratings = []\n",
    "for _, row in test.iterrows():\n",
    "    test_pred_ratings.append(preds.loc[row['uID'], row['mID']])"
   ]
  },
  {
   "cell_type": "markdown",
   "metadata": {},
   "source": [
    "And finally, I will calculate the RMSE for train and test sets:"
   ]
  },
  {
   "cell_type": "code",
   "execution_count": 101,
   "metadata": {},
   "outputs": [
    {
     "name": "stdout",
     "output_type": "stream",
     "text": [
      "0.9185528444550565\n",
      "0.9798331328592021\n"
     ]
    }
   ],
   "source": [
    "# RMSE on the training set\n",
    "rmse = sqrt(mean_squared_error(train['rating'], train_pred_ratings))\n",
    "print(rmse)\n",
    "\n",
    "# RMSE on the test set\n",
    "rmse = sqrt(mean_squared_error(test['rating'], test_pred_ratings))\n",
    "print(rmse)"
   ]
  },
  {
   "cell_type": "markdown",
   "metadata": {},
   "source": [
    "### Results discussion\n",
    "\n",
    "The RMSE for the test set is 0.979, which is much better than the baseline methods from Module 3 lab, and very close to similarity methods. Therefore, I will not suggest ways to fix it, as it is not broken. But, I can adress a few points that I considered while building the model:\n",
    "1. Adding the missing movies from the test set - this is crucial, as otherwise the missing movies will not get a prediction\n",
    "2. Filling the NaN values with user average rating - This is crucial as  well, because NMF cannot work with NaN values.\n",
    "3. Choosing the number of components to be relatively small - I've chosen 50, and it can be even lower number. It is important to understand that number of components in this case doesn't have to be meaningfull. For example I don't need it to represent user-user similarity or any other factors."
   ]
  },
  {
   "cell_type": "markdown",
   "metadata": {},
   "source": [
    "In addition, I want to add that while NMF is a powerful model, and it performs well relative to similarity methods, the RMSE of 1 is a very high error for a model that is supposed to predict a rating between 1 and 5. To demostrate that I will plot two histograms for predicted rating when true rating is 1 and 5:"
   ]
  },
  {
   "cell_type": "code",
   "execution_count": 102,
   "metadata": {},
   "outputs": [
    {
     "data": {
      "image/png": "[encoded data removed]",
      "text/plain": [
       "<Figure size 640x480 with 1 Axes>"
      ]
     },
     "metadata": {},
     "output_type": "display_data"
    },
    {
     "data": {
      "image/png": "[encoded data removed]",
      "text/plain": [
       "<Figure size 640x480 with 1 Axes>"
      ]
     },
     "metadata": {},
     "output_type": "display_data"
    }
   ],
   "source": [
    "import matplotlib.pyplot as plt\n",
    "\n",
    "plt.hist([test_pred_ratings[i] for i in range(len(test_pred_ratings)) if test['rating'][i] == 1], bins=20)\n",
    "plt.title('Predicted ratings for true rating 1')\n",
    "plt.show()\n",
    "\n",
    "plt.hist([test_pred_ratings[i] for i in range(len(test_pred_ratings)) if test['rating'][i] == 5], bins=20)\n",
    "plt.title('Predicted ratings for true rating 5')\n",
    "plt.show()\n",
    "\n"
   ]
  },
  {
   "cell_type": "markdown",
   "metadata": {},
   "source": [
    "I think that one of the drawbacks of NMF specifically for this problem (and probably any problem with sparse data) is that the missing values needs to be filled. In my case I used the user average ratings, and that affects the predictions, because all those values are used in calculations of the W and H matrices. There are other factorization techniques that can work better for such cases, like SGD (Stochastic Gradient Descent) which can ignore the NaN values."
   ]
  }
 ],
 "metadata": {
  "kernelspec": {
   "display_name": "Python 3",
   "language": "python",
   "name": "python3"
  },
  "language_info": {
   "codemirror_mode": {
    "name": "ipython",
    "version": 3
   },
   "file_extension": ".py",
   "mimetype": "text/x-python",
   "name": "python",
   "nbconvert_exporter": "python",
   "pygments_lexer": "ipython3",
   "version": "3.13.2"
  }
 },
 "nbformat": 4,
 "nbformat_minor": 2
}
